{
 "cells": [
  {
   "cell_type": "code",
   "execution_count": 1,
   "metadata": {
    "collapsed": false,
    "deletable": true,
    "editable": true
   },
   "outputs": [
    {
     "name": "stdout",
     "output_type": "stream",
     "text": [
      "ready\n"
     ]
    }
   ],
   "source": [
    "import datetime\n",
    "import pandas as pd\n",
    "import numpy as np\n",
    "\n",
    "from pybaseball import schedule_and_record\n",
    "print('ready')"
   ]
  },
  {
   "cell_type": "code",
   "execution_count": 2,
   "metadata": {
    "collapsed": false,
    "deletable": true,
    "editable": true
   },
   "outputs": [
    {
     "name": "stdout",
     "output_type": "stream",
     "text": [
      "ready\n"
     ]
    }
   ],
   "source": [
    "cubs = schedule_and_record(2018, 'CHC')\n",
    "\n",
    "print('ready')"
   ]
  },
  {
   "cell_type": "code",
   "execution_count": 2,
   "metadata": {
    "collapsed": true,
    "deletable": true,
    "editable": true
   },
   "outputs": [],
   "source": [
    "bballJoin = pd.read_csv('csv/bballJoin.csv', index_col=None)\n"
   ]
  },
  {
   "cell_type": "code",
   "execution_count": 3,
   "metadata": {
    "collapsed": false,
    "deletable": true,
    "editable": true
   },
   "outputs": [
    {
     "name": "stdout",
     "output_type": "stream",
     "text": [
      "Get Sox sched stuff\n",
      "Last and next sox games saved\n",
      "Sox aggregate done\n"
     ]
    }
   ],
   "source": [
    "print('Get Sox sched stuff')\n",
    "sox = schedule_and_record(2018, 'CHW')\n",
    "soxsort = pd.DataFrame ( sox.loc[ ( sox[\"W/L\"].notnull() ) ] )\n",
    "soxsort.sort_index(ascending=False,inplace=True)\n",
    "soxlast = soxsort[:1]\n",
    "soxnext = pd.DataFrame ( sox.loc[ ( sox[\"W/L\"].isnull() ) ] )\n",
    "soxnext = soxnext[:1]\n",
    "soxlast = soxnext.append(soxlast)\n",
    "soxlast = soxlast.rename(columns = {'Tm':'teamID'})\n",
    "left = soxlast\n",
    "right = bballJoin\n",
    "soxnextlast = pd.merge(left, right, how='left', left_on='Opp', right_on='tres', suffixes=('_x', '_y'))\n",
    "soxnextlast = soxnextlast.sort_values(by='R', ascending=False).reset_index(drop=True)\n",
    "soxnextlast.to_csv(\"csv/soxnextlast.csv\", index=False, encoding=\"utf-8\")\n",
    "print('Last and next sox games saved')\n",
    "# Now aggregate results by team\n",
    "# get df of teams played\n",
    "soxteams = []\n",
    "for name,grouped in soxsort.groupby(['Opp']):\n",
    "    dlist = list([name])\n",
    "    soxteams.append(dlist)\n",
    "df = pd.DataFrame(data = soxteams, columns=['Team'])\n",
    "# now aggregate results\n",
    "soxlist = []\n",
    "for team in df['Team']:\n",
    "    # Link team in df to soxteams list in teamlist\n",
    "    opp = soxsort['Opp'] == team\n",
    "    df1 = soxsort[opp]\n",
    "    # get wins and losses\n",
    "    w = df1['W/L'] == 'W'\n",
    "    wins = len( df1[w] )\n",
    "    l = df1['W/L'] == 'L'\n",
    "    loses = len( df1[l] )\n",
    "    # average runs/against\n",
    "    rAvg = np.round( df1['R'].mean() ,2)\n",
    "    raAvg = np.round( df1['RA'].mean() ,2)\n",
    "    # append to empty list\n",
    "    slist = list([team,wins,loses,rAvg,raAvg])\n",
    "    soxlist.append(slist)\n",
    "# bring list into dataframe and name columns\n",
    "soxagainst = pd.DataFrame(data = soxlist, columns=['teamID','Wins','Loses','AvgRuns','AvgRunsAg'])\n",
    "# join aggregated list with team names\n",
    "left = soxagainst\n",
    "right = bballJoin\n",
    "soxagg = pd.merge(left, right, how='left', left_on='teamID', right_on='tres', suffixes=('_x', '_y'))\n",
    "soxagg.to_csv(\"csv/soxagg.csv\", index=False, encoding=\"utf-8\")\n",
    "print(\"Sox aggregate done\")"
   ]
  },
  {
   "cell_type": "code",
   "execution_count": 3,
   "metadata": {
    "collapsed": false,
    "deletable": true,
    "editable": true
   },
   "outputs": [
    {
     "name": "stdout",
     "output_type": "stream",
     "text": [
      "Get Sox sched stuff\n"
     ]
    }
   ],
   "source": [
    "print('Get Sox sched stuff')\n",
    "sox = schedule_and_record(2018, 'CHW')"
   ]
  },
  {
   "cell_type": "code",
   "execution_count": 10,
   "metadata": {
    "collapsed": false,
    "deletable": true,
    "editable": true
   },
   "outputs": [
    {
     "data": {
      "text/plain": [
       "Date                object\n",
       "Tm                  object\n",
       "Home_Away           object\n",
       "Opp                 object\n",
       "W/L                 object\n",
       "R                   object\n",
       "RA                  object\n",
       "Inn                float64\n",
       "W-L                 object\n",
       "Rank               float64\n",
       "GB                  object\n",
       "Win                 object\n",
       "Loss                object\n",
       "Save                object\n",
       "Time                object\n",
       "D/N                 object\n",
       "Attendance         float64\n",
       "Streak             float64\n",
       "Orig. Scheduled     object\n",
       "dtype: object"
      ]
     },
     "execution_count": 10,
     "metadata": {},
     "output_type": "execute_result"
    }
   ],
   "source": [
    "soxsort = pd.DataFrame ( sox.loc[ ( sox[\"W/L\"].notnull() ) ] )\n",
    "soxsort.sort_index(ascending=False,inplace=True)\n",
    "soxlast = soxsort[:1]\n",
    "soxlast = soxlast.copy()\n",
    "soxlast.loc[:, 'R'] = soxlast['R'].astype(int)\n",
    "soxlast.loc[:, 'R'] = soxlast['R'].astype(str)\n",
    "soxlast.loc[:, 'RA'] = soxlast['RA'].astype(int)\n",
    "soxlast.loc[:, 'RA'] = soxlast['RA'].astype(str)\n",
    "soxlast.dtypes"
   ]
  },
  {
   "cell_type": "code",
   "execution_count": 11,
   "metadata": {
    "collapsed": false
   },
   "outputs": [
    {
     "data": {
      "text/plain": [
       "(1, 19)"
      ]
     },
     "execution_count": 11,
     "metadata": {},
     "output_type": "execute_result"
    }
   ],
   "source": [
    "soxlast.shape"
   ]
  },
  {
   "cell_type": "code",
   "execution_count": 21,
   "metadata": {
    "collapsed": false,
    "deletable": true,
    "editable": true
   },
   "outputs": [
    {
     "data": {
      "text/html": [
       "<div>\n",
       "<style scoped>\n",
       "    .dataframe tbody tr th:only-of-type {\n",
       "        vertical-align: middle;\n",
       "    }\n",
       "\n",
       "    .dataframe tbody tr th {\n",
       "        vertical-align: top;\n",
       "    }\n",
       "\n",
       "    .dataframe thead th {\n",
       "        text-align: right;\n",
       "    }\n",
       "</style>\n",
       "<table border=\"1\" class=\"dataframe\">\n",
       "  <thead>\n",
       "    <tr style=\"text-align: right;\">\n",
       "      <th></th>\n",
       "      <th>Date</th>\n",
       "      <th>teamID</th>\n",
       "      <th>Home_Away</th>\n",
       "      <th>Opp</th>\n",
       "      <th>W/L</th>\n",
       "      <th>R</th>\n",
       "      <th>RA</th>\n",
       "      <th>Inn</th>\n",
       "      <th>W-L</th>\n",
       "      <th>Rank</th>\n",
       "      <th>...</th>\n",
       "      <th>D/N</th>\n",
       "      <th>Attendance</th>\n",
       "      <th>Streak</th>\n",
       "      <th>Orig. Scheduled</th>\n",
       "      <th>Team</th>\n",
       "      <th>Tm</th>\n",
       "      <th>League</th>\n",
       "      <th>Division</th>\n",
       "      <th>color</th>\n",
       "      <th>tres</th>\n",
       "    </tr>\n",
       "  </thead>\n",
       "  <tbody>\n",
       "    <tr>\n",
       "      <th>0</th>\n",
       "      <td>Thursday, Apr 12</td>\n",
       "      <td>CHW</td>\n",
       "      <td>@</td>\n",
       "      <td>MIN</td>\n",
       "      <td>L</td>\n",
       "      <td>0</td>\n",
       "      <td>4</td>\n",
       "      <td>9.0</td>\n",
       "      <td>4-8</td>\n",
       "      <td>3.0</td>\n",
       "      <td>...</td>\n",
       "      <td>N</td>\n",
       "      <td>15474.0</td>\n",
       "      <td>-1.0</td>\n",
       "      <td>None</td>\n",
       "      <td>Twins</td>\n",
       "      <td>Minnesota Twins</td>\n",
       "      <td>American</td>\n",
       "      <td>Central</td>\n",
       "      <td>#6B8E23</td>\n",
       "      <td>MIN</td>\n",
       "    </tr>\n",
       "    <tr>\n",
       "      <th>1</th>\n",
       "      <td>Sunday, Apr 15</td>\n",
       "      <td>CHW</td>\n",
       "      <td>@</td>\n",
       "      <td>MIN</td>\n",
       "      <td>None</td>\n",
       "      <td>NaN</td>\n",
       "      <td>NaN</td>\n",
       "      <td>NaN</td>\n",
       "      <td>None</td>\n",
       "      <td>NaN</td>\n",
       "      <td>...</td>\n",
       "      <td>None</td>\n",
       "      <td>NaN</td>\n",
       "      <td>NaN</td>\n",
       "      <td>None</td>\n",
       "      <td>Twins</td>\n",
       "      <td>Minnesota Twins</td>\n",
       "      <td>American</td>\n",
       "      <td>Central</td>\n",
       "      <td>#6B8E23</td>\n",
       "      <td>MIN</td>\n",
       "    </tr>\n",
       "  </tbody>\n",
       "</table>\n",
       "<p>2 rows × 25 columns</p>\n",
       "</div>"
      ],
      "text/plain": [
       "               Date teamID Home_Away  Opp   W/L    R   RA  Inn   W-L  Rank  \\\n",
       "0  Thursday, Apr 12    CHW         @  MIN     L    0    4  9.0   4-8   3.0   \n",
       "1    Sunday, Apr 15    CHW         @  MIN  None  NaN  NaN  NaN  None   NaN   \n",
       "\n",
       "  ...    D/N Attendance Streak Orig. Scheduled   Team               Tm  \\\n",
       "0 ...      N    15474.0   -1.0            None  Twins  Minnesota Twins   \n",
       "1 ...   None        NaN    NaN            None  Twins  Minnesota Twins   \n",
       "\n",
       "     League  Division    color tres  \n",
       "0  American   Central  #6B8E23  MIN  \n",
       "1  American   Central  #6B8E23  MIN  \n",
       "\n",
       "[2 rows x 25 columns]"
      ]
     },
     "execution_count": 21,
     "metadata": {},
     "output_type": "execute_result"
    }
   ],
   "source": [
    "soxnext = pd.DataFrame ( sox.loc[ ( sox[\"W/L\"].isnull() ) ] )\n",
    "soxnext = soxnext[:1]\n",
    "soxlast = soxnext.append(soxlast)\n",
    "soxlast = soxlast.rename(columns = {'Tm':'teamID'})\n",
    "left = soxlast\n",
    "right = bballJoin\n",
    "soxnextlast = pd.merge(left, right, how='left', left_on='Opp', right_on='tres', suffixes=('_x', '_y'))\n",
    "soxnextlast = soxnextlast.sort_values(by='R', ascending=False).reset_index(drop=True)\n",
    "soxnextlast.head()"
   ]
  },
  {
   "cell_type": "code",
   "execution_count": 107,
   "metadata": {
    "collapsed": false,
    "deletable": true,
    "editable": true
   },
   "outputs": [
    {
     "data": {
      "text/html": [
       "<div>\n",
       "<style scoped>\n",
       "    .dataframe tbody tr th:only-of-type {\n",
       "        vertical-align: middle;\n",
       "    }\n",
       "\n",
       "    .dataframe tbody tr th {\n",
       "        vertical-align: top;\n",
       "    }\n",
       "\n",
       "    .dataframe thead th {\n",
       "        text-align: right;\n",
       "    }\n",
       "</style>\n",
       "<table border=\"1\" class=\"dataframe\">\n",
       "  <thead>\n",
       "    <tr style=\"text-align: right;\">\n",
       "      <th></th>\n",
       "      <th>Date</th>\n",
       "      <th>teamID</th>\n",
       "      <th>Home_Away</th>\n",
       "      <th>Opp</th>\n",
       "      <th>W/L</th>\n",
       "      <th>R</th>\n",
       "      <th>RA</th>\n",
       "      <th>Inn</th>\n",
       "      <th>W-L</th>\n",
       "      <th>Rank</th>\n",
       "      <th>...</th>\n",
       "      <th>D/N</th>\n",
       "      <th>Attendance</th>\n",
       "      <th>Streak</th>\n",
       "      <th>Orig. Scheduled</th>\n",
       "      <th>Team</th>\n",
       "      <th>Tm</th>\n",
       "      <th>League</th>\n",
       "      <th>Division</th>\n",
       "      <th>color</th>\n",
       "      <th>tres</th>\n",
       "    </tr>\n",
       "  </thead>\n",
       "  <tbody>\n",
       "    <tr>\n",
       "      <th>0</th>\n",
       "      <td>Thursday, Apr 12</td>\n",
       "      <td>CHW</td>\n",
       "      <td>@</td>\n",
       "      <td>MIN</td>\n",
       "      <td>L</td>\n",
       "      <td>0.0</td>\n",
       "      <td>4.0</td>\n",
       "      <td>9.0</td>\n",
       "      <td>4-8</td>\n",
       "      <td>3.0</td>\n",
       "      <td>...</td>\n",
       "      <td>N</td>\n",
       "      <td>15474.0</td>\n",
       "      <td>-1.0</td>\n",
       "      <td>None</td>\n",
       "      <td>Twins</td>\n",
       "      <td>Minnesota Twins</td>\n",
       "      <td>American</td>\n",
       "      <td>Central</td>\n",
       "      <td>#6B8E23</td>\n",
       "      <td>MIN</td>\n",
       "    </tr>\n",
       "    <tr>\n",
       "      <th>1</th>\n",
       "      <td>Sunday, Apr 15</td>\n",
       "      <td>CHW</td>\n",
       "      <td>@</td>\n",
       "      <td>MIN</td>\n",
       "      <td>None</td>\n",
       "      <td>NaN</td>\n",
       "      <td>NaN</td>\n",
       "      <td>NaN</td>\n",
       "      <td>None</td>\n",
       "      <td>NaN</td>\n",
       "      <td>...</td>\n",
       "      <td>None</td>\n",
       "      <td>NaN</td>\n",
       "      <td>NaN</td>\n",
       "      <td>None</td>\n",
       "      <td>Twins</td>\n",
       "      <td>Minnesota Twins</td>\n",
       "      <td>American</td>\n",
       "      <td>Central</td>\n",
       "      <td>#6B8E23</td>\n",
       "      <td>MIN</td>\n",
       "    </tr>\n",
       "  </tbody>\n",
       "</table>\n",
       "<p>2 rows × 25 columns</p>\n",
       "</div>"
      ],
      "text/plain": [
       "               Date teamID Home_Away  Opp   W/L    R   RA  Inn   W-L  Rank  \\\n",
       "0  Thursday, Apr 12    CHW         @  MIN     L  0.0  4.0  9.0   4-8   3.0   \n",
       "1    Sunday, Apr 15    CHW         @  MIN  None  NaN  NaN  NaN  None   NaN   \n",
       "\n",
       "  ...    D/N Attendance Streak Orig. Scheduled   Team               Tm  \\\n",
       "0 ...      N    15474.0   -1.0            None  Twins  Minnesota Twins   \n",
       "1 ...   None        NaN    NaN            None  Twins  Minnesota Twins   \n",
       "\n",
       "     League  Division    color tres  \n",
       "0  American   Central  #6B8E23  MIN  \n",
       "1  American   Central  #6B8E23  MIN  \n",
       "\n",
       "[2 rows x 25 columns]"
      ]
     },
     "execution_count": 107,
     "metadata": {},
     "output_type": "execute_result"
    }
   ],
   "source": [
    "sox = schedule_and_record(2018, 'CHW')\n",
    "soxsort = pd.DataFrame ( sox.loc[ ( sox[\"W/L\"].notnull() ) ] )\n",
    "soxsort.sort_index(ascending=False,inplace=True)\n",
    "soxlast = soxsort[:1]\n",
    "soxnext = pd.DataFrame ( sox.loc[ ( sox[\"W/L\"].isnull() ) ] )\n",
    "soxnext = soxnext[:1]\n",
    "soxlast = soxnext.append(soxlast)\n",
    "soxlast = soxlast.rename(columns = {'Tm':'teamID'})\n",
    "left = soxlast\n",
    "right = bballJoin\n",
    "soxagg = pd.merge(left, right, how='left', left_on='Opp', right_on='tres', suffixes=('_x', '_y'))\n",
    "soxagg = soxagg.sort_values(by='R', ascending=False).reset_index(drop=True)\n",
    "soxagg"
   ]
  },
  {
   "cell_type": "code",
   "execution_count": 109,
   "metadata": {
    "collapsed": false,
    "deletable": true,
    "editable": true
   },
   "outputs": [
    {
     "data": {
      "text/html": [
       "<div>\n",
       "<style scoped>\n",
       "    .dataframe tbody tr th:only-of-type {\n",
       "        vertical-align: middle;\n",
       "    }\n",
       "\n",
       "    .dataframe tbody tr th {\n",
       "        vertical-align: top;\n",
       "    }\n",
       "\n",
       "    .dataframe thead th {\n",
       "        text-align: right;\n",
       "    }\n",
       "</style>\n",
       "<table border=\"1\" class=\"dataframe\">\n",
       "  <thead>\n",
       "    <tr style=\"text-align: right;\">\n",
       "      <th></th>\n",
       "      <th>Team</th>\n",
       "    </tr>\n",
       "  </thead>\n",
       "  <tbody>\n",
       "    <tr>\n",
       "      <th>0</th>\n",
       "      <td>DET</td>\n",
       "    </tr>\n",
       "    <tr>\n",
       "      <th>1</th>\n",
       "      <td>KCR</td>\n",
       "    </tr>\n",
       "    <tr>\n",
       "      <th>2</th>\n",
       "      <td>MIN</td>\n",
       "    </tr>\n",
       "    <tr>\n",
       "      <th>3</th>\n",
       "      <td>TBR</td>\n",
       "    </tr>\n",
       "    <tr>\n",
       "      <th>4</th>\n",
       "      <td>TOR</td>\n",
       "    </tr>\n",
       "  </tbody>\n",
       "</table>\n",
       "</div>"
      ],
      "text/plain": [
       "  Team\n",
       "0  DET\n",
       "1  KCR\n",
       "2  MIN\n",
       "3  TBR\n",
       "4  TOR"
      ]
     },
     "execution_count": 109,
     "metadata": {},
     "output_type": "execute_result"
    }
   ],
   "source": [
    "# get df of teams\n",
    "soxteams = []\n",
    "for name,grouped in soxsort.groupby(['Opp']):\n",
    "    dlist = list([name])\n",
    "    soxteams.append(dlist)\n",
    "df = pd.DataFrame(data = soxteams, columns=['Team'])\n",
    "df"
   ]
  },
  {
   "cell_type": "code",
   "execution_count": 78,
   "metadata": {
    "collapsed": false,
    "deletable": true,
    "editable": true
   },
   "outputs": [
    {
     "data": {
      "text/html": [
       "<div>\n",
       "<style scoped>\n",
       "    .dataframe tbody tr th:only-of-type {\n",
       "        vertical-align: middle;\n",
       "    }\n",
       "\n",
       "    .dataframe tbody tr th {\n",
       "        vertical-align: top;\n",
       "    }\n",
       "\n",
       "    .dataframe thead th {\n",
       "        text-align: right;\n",
       "    }\n",
       "</style>\n",
       "<table border=\"1\" class=\"dataframe\">\n",
       "  <thead>\n",
       "    <tr style=\"text-align: right;\">\n",
       "      <th></th>\n",
       "      <th>teamID</th>\n",
       "      <th>Wins</th>\n",
       "      <th>Loses</th>\n",
       "      <th>AvgRuns</th>\n",
       "      <th>AvgRunsAg</th>\n",
       "    </tr>\n",
       "  </thead>\n",
       "  <tbody>\n",
       "    <tr>\n",
       "      <th>0</th>\n",
       "      <td>DET</td>\n",
       "      <td>0</td>\n",
       "      <td>3</td>\n",
       "      <td>2.67</td>\n",
       "      <td>5.33</td>\n",
       "    </tr>\n",
       "    <tr>\n",
       "      <th>1</th>\n",
       "      <td>KCR</td>\n",
       "      <td>2</td>\n",
       "      <td>0</td>\n",
       "      <td>9.00</td>\n",
       "      <td>5.00</td>\n",
       "    </tr>\n",
       "    <tr>\n",
       "      <th>2</th>\n",
       "      <td>MIN</td>\n",
       "      <td>0</td>\n",
       "      <td>1</td>\n",
       "      <td>0.00</td>\n",
       "      <td>4.00</td>\n",
       "    </tr>\n",
       "    <tr>\n",
       "      <th>3</th>\n",
       "      <td>TBR</td>\n",
       "      <td>1</td>\n",
       "      <td>2</td>\n",
       "      <td>3.67</td>\n",
       "      <td>4.00</td>\n",
       "    </tr>\n",
       "    <tr>\n",
       "      <th>4</th>\n",
       "      <td>TOR</td>\n",
       "      <td>1</td>\n",
       "      <td>2</td>\n",
       "      <td>3.67</td>\n",
       "      <td>7.00</td>\n",
       "    </tr>\n",
       "  </tbody>\n",
       "</table>\n",
       "</div>"
      ],
      "text/plain": [
       "  teamID  Wins  Loses  AvgRuns  AvgRunsAg\n",
       "0    DET     0      3     2.67       5.33\n",
       "1    KCR     2      0     9.00       5.00\n",
       "2    MIN     0      1     0.00       4.00\n",
       "3    TBR     1      2     3.67       4.00\n",
       "4    TOR     1      2     3.67       7.00"
      ]
     },
     "execution_count": 78,
     "metadata": {},
     "output_type": "execute_result"
    }
   ],
   "source": [
    "# now aggregate results\n",
    "\n",
    "# create empty list\n",
    "soxlist = []\n",
    "for team in df['Team']:\n",
    "    # Link team in df to soxteams list in teamlist\n",
    "    opp = sox['Opp'] == team\n",
    "    df1 = sox[opp]\n",
    "    \n",
    "    # get wins and losses\n",
    "    w = df1['W/L'] == 'W'\n",
    "    wins = len( df1[w] )\n",
    "    l = df1['W/L'] == 'L'\n",
    "    loses = len( df1[l] )\n",
    "    \n",
    "    # average runs/against\n",
    "    rAvg = np.round( df1['R'].mean() ,2)\n",
    "    raAvg = np.round( df1['RA'].mean() ,2)\n",
    "    \n",
    "    slist = list([team,wins,loses,rAvg,raAvg])\n",
    "    soxlist.append(slist)\n",
    "soxagainst = pd.DataFrame(data = soxlist, columns=['teamID','Wins','Loses','AvgRuns','AvgRunsAg'])\n",
    "soxagainst"
   ]
  },
  {
   "cell_type": "code",
   "execution_count": 79,
   "metadata": {
    "collapsed": false,
    "deletable": true,
    "editable": true
   },
   "outputs": [
    {
     "data": {
      "text/html": [
       "<div>\n",
       "<style scoped>\n",
       "    .dataframe tbody tr th:only-of-type {\n",
       "        vertical-align: middle;\n",
       "    }\n",
       "\n",
       "    .dataframe tbody tr th {\n",
       "        vertical-align: top;\n",
       "    }\n",
       "\n",
       "    .dataframe thead th {\n",
       "        text-align: right;\n",
       "    }\n",
       "</style>\n",
       "<table border=\"1\" class=\"dataframe\">\n",
       "  <thead>\n",
       "    <tr style=\"text-align: right;\">\n",
       "      <th></th>\n",
       "      <th>teamID</th>\n",
       "      <th>Wins</th>\n",
       "      <th>Loses</th>\n",
       "      <th>AvgRuns</th>\n",
       "      <th>AvgRunsAg</th>\n",
       "      <th>Team</th>\n",
       "      <th>Tm</th>\n",
       "      <th>League</th>\n",
       "      <th>Division</th>\n",
       "      <th>color</th>\n",
       "      <th>tres</th>\n",
       "    </tr>\n",
       "  </thead>\n",
       "  <tbody>\n",
       "    <tr>\n",
       "      <th>0</th>\n",
       "      <td>DET</td>\n",
       "      <td>0</td>\n",
       "      <td>3</td>\n",
       "      <td>2.67</td>\n",
       "      <td>5.33</td>\n",
       "      <td>Tigers</td>\n",
       "      <td>Detroit Tigers</td>\n",
       "      <td>American</td>\n",
       "      <td>Central</td>\n",
       "      <td>#6B8E23</td>\n",
       "      <td>DET</td>\n",
       "    </tr>\n",
       "    <tr>\n",
       "      <th>1</th>\n",
       "      <td>KCR</td>\n",
       "      <td>2</td>\n",
       "      <td>0</td>\n",
       "      <td>9.00</td>\n",
       "      <td>5.00</td>\n",
       "      <td>Royals</td>\n",
       "      <td>Kansas City Royals</td>\n",
       "      <td>American</td>\n",
       "      <td>Central</td>\n",
       "      <td>#6B8E23</td>\n",
       "      <td>KCR</td>\n",
       "    </tr>\n",
       "    <tr>\n",
       "      <th>2</th>\n",
       "      <td>MIN</td>\n",
       "      <td>0</td>\n",
       "      <td>1</td>\n",
       "      <td>0.00</td>\n",
       "      <td>4.00</td>\n",
       "      <td>Twins</td>\n",
       "      <td>Minnesota Twins</td>\n",
       "      <td>American</td>\n",
       "      <td>Central</td>\n",
       "      <td>#6B8E23</td>\n",
       "      <td>MIN</td>\n",
       "    </tr>\n",
       "    <tr>\n",
       "      <th>3</th>\n",
       "      <td>TBR</td>\n",
       "      <td>1</td>\n",
       "      <td>2</td>\n",
       "      <td>3.67</td>\n",
       "      <td>4.00</td>\n",
       "      <td>Rays</td>\n",
       "      <td>Tampa Bay Rays</td>\n",
       "      <td>American</td>\n",
       "      <td>East</td>\n",
       "      <td>#6B8E23</td>\n",
       "      <td>TBR</td>\n",
       "    </tr>\n",
       "    <tr>\n",
       "      <th>4</th>\n",
       "      <td>TOR</td>\n",
       "      <td>1</td>\n",
       "      <td>2</td>\n",
       "      <td>3.67</td>\n",
       "      <td>7.00</td>\n",
       "      <td>Blue Jays</td>\n",
       "      <td>Toronto Blue Jays</td>\n",
       "      <td>American</td>\n",
       "      <td>East</td>\n",
       "      <td>#6B8E23</td>\n",
       "      <td>TOR</td>\n",
       "    </tr>\n",
       "  </tbody>\n",
       "</table>\n",
       "</div>"
      ],
      "text/plain": [
       "  teamID  Wins  Loses  AvgRuns  AvgRunsAg       Team                  Tm  \\\n",
       "0    DET     0      3     2.67       5.33     Tigers      Detroit Tigers   \n",
       "1    KCR     2      0     9.00       5.00     Royals  Kansas City Royals   \n",
       "2    MIN     0      1     0.00       4.00      Twins     Minnesota Twins   \n",
       "3    TBR     1      2     3.67       4.00       Rays      Tampa Bay Rays   \n",
       "4    TOR     1      2     3.67       7.00  Blue Jays   Toronto Blue Jays   \n",
       "\n",
       "     League Division    color tres  \n",
       "0  American  Central  #6B8E23  DET  \n",
       "1  American  Central  #6B8E23  KCR  \n",
       "2  American  Central  #6B8E23  MIN  \n",
       "3  American     East  #6B8E23  TBR  \n",
       "4  American     East  #6B8E23  TOR  "
      ]
     },
     "execution_count": 79,
     "metadata": {},
     "output_type": "execute_result"
    }
   ],
   "source": [
    "left = soxagainst\n",
    "right = bballJoin\n",
    "soxagg = pd.merge(left, right, how='left', left_on='teamID', right_on='tres', suffixes=('_x', '_y'))\n",
    "soxagg"
   ]
  },
  {
   "cell_type": "code",
   "execution_count": 9,
   "metadata": {
    "collapsed": false,
    "deletable": true,
    "editable": true
   },
   "outputs": [
    {
     "data": {
      "text/plain": [
       "Date                object\n",
       "Tm                  object\n",
       "Home_Away           object\n",
       "Opp                 object\n",
       "W/L                 object\n",
       "R                  float64\n",
       "RA                 float64\n",
       "Inn                float64\n",
       "W-L                 object\n",
       "Rank               float64\n",
       "GB                  object\n",
       "Win                 object\n",
       "Loss                object\n",
       "Save                object\n",
       "Time                object\n",
       "D/N                 object\n",
       "Attendance         float64\n",
       "Streak             float64\n",
       "Orig. Scheduled     object\n",
       "dtype: object"
      ]
     },
     "execution_count": 9,
     "metadata": {},
     "output_type": "execute_result"
    }
   ],
   "source": [
    "sox.dtypes"
   ]
  },
  {
   "cell_type": "code",
   "execution_count": 10,
   "metadata": {
    "collapsed": false,
    "deletable": true,
    "editable": true
   },
   "outputs": [
    {
     "data": {
      "text/plain": [
       "(12, 19)"
      ]
     },
     "execution_count": 10,
     "metadata": {},
     "output_type": "execute_result"
    }
   ],
   "source": [
    "sox.shape"
   ]
  },
  {
   "cell_type": "code",
   "execution_count": 22,
   "metadata": {
    "collapsed": false,
    "deletable": true,
    "editable": true
   },
   "outputs": [
    {
     "data": {
      "text/html": [
       "<div>\n",
       "<style scoped>\n",
       "    .dataframe tbody tr th:only-of-type {\n",
       "        vertical-align: middle;\n",
       "    }\n",
       "\n",
       "    .dataframe tbody tr th {\n",
       "        vertical-align: top;\n",
       "    }\n",
       "\n",
       "    .dataframe thead th {\n",
       "        text-align: right;\n",
       "    }\n",
       "</style>\n",
       "<table border=\"1\" class=\"dataframe\">\n",
       "  <thead>\n",
       "    <tr style=\"text-align: right;\">\n",
       "      <th></th>\n",
       "      <th>Date</th>\n",
       "      <th>Tm</th>\n",
       "      <th>Home_Away</th>\n",
       "      <th>Opp</th>\n",
       "      <th>W/L</th>\n",
       "      <th>R</th>\n",
       "      <th>RA</th>\n",
       "      <th>Inn</th>\n",
       "      <th>W-L</th>\n",
       "      <th>Rank</th>\n",
       "      <th>GB</th>\n",
       "      <th>Win</th>\n",
       "      <th>Loss</th>\n",
       "      <th>Save</th>\n",
       "      <th>Time</th>\n",
       "      <th>D/N</th>\n",
       "      <th>Attendance</th>\n",
       "      <th>Streak</th>\n",
       "      <th>Orig. Scheduled</th>\n",
       "    </tr>\n",
       "  </thead>\n",
       "  <tbody>\n",
       "    <tr>\n",
       "      <th>12</th>\n",
       "      <td>Thursday, Apr 12</td>\n",
       "      <td>CHW</td>\n",
       "      <td>@</td>\n",
       "      <td>MIN</td>\n",
       "      <td>L</td>\n",
       "      <td>0.0</td>\n",
       "      <td>4.0</td>\n",
       "      <td>9.0</td>\n",
       "      <td>4-8</td>\n",
       "      <td>3.0</td>\n",
       "      <td>3.5</td>\n",
       "      <td>Berrios</td>\n",
       "      <td>Giolito</td>\n",
       "      <td>None</td>\n",
       "      <td>2:55</td>\n",
       "      <td>N</td>\n",
       "      <td>15474.0</td>\n",
       "      <td>-1.0</td>\n",
       "      <td>None</td>\n",
       "    </tr>\n",
       "  </tbody>\n",
       "</table>\n",
       "</div>"
      ],
      "text/plain": [
       "                Date   Tm Home_Away  Opp W/L    R   RA  Inn  W-L  Rank   GB  \\\n",
       "12  Thursday, Apr 12  CHW         @  MIN   L  0.0  4.0  9.0  4-8   3.0  3.5   \n",
       "\n",
       "        Win     Loss  Save  Time D/N  Attendance  Streak Orig. Scheduled  \n",
       "12  Berrios  Giolito  None  2:55   N     15474.0    -1.0            None  "
      ]
     },
     "execution_count": 22,
     "metadata": {},
     "output_type": "execute_result"
    }
   ],
   "source": [
    "sox[:1]\n",
    "#soxlast=pd.DataFrame( sox.iloc[0] )\n",
    "#soxlast"
   ]
  },
  {
   "cell_type": "code",
   "execution_count": null,
   "metadata": {
    "collapsed": true,
    "deletable": true,
    "editable": true
   },
   "outputs": [],
   "source": []
  },
  {
   "cell_type": "code",
   "execution_count": null,
   "metadata": {
    "collapsed": true,
    "deletable": true,
    "editable": true
   },
   "outputs": [],
   "source": []
  },
  {
   "cell_type": "code",
   "execution_count": null,
   "metadata": {
    "collapsed": true,
    "deletable": true,
    "editable": true
   },
   "outputs": [],
   "source": []
  }
 ],
 "metadata": {
  "kernelspec": {
   "display_name": "Python 3",
   "language": "python",
   "name": "python3"
  },
  "language_info": {
   "codemirror_mode": {
    "name": "ipython",
    "version": 3
   },
   "file_extension": ".py",
   "mimetype": "text/x-python",
   "name": "python",
   "nbconvert_exporter": "python",
   "pygments_lexer": "ipython3",
   "version": "3.6.0"
  }
 },
 "nbformat": 4,
 "nbformat_minor": 2
}
